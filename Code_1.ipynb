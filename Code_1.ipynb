{
  "nbformat": 4,
  "nbformat_minor": 0,
  "metadata": {
    "colab": {
      "name": "Project-Image Captioning.ipynb",
      "provenance": [],
      "authorship_tag": "ABX9TyPgpHNelIzQYxyn7XcVwyfH",
      "include_colab_link": true
    },
    "kernelspec": {
      "name": "python3",
      "display_name": "Python 3"
    }
  },
  "cells": [
    {
      "cell_type": "markdown",
      "metadata": {
        "id": "view-in-github",
        "colab_type": "text"
      },
      "source": [
        "<a href=\"https://colab.research.google.com/github/Machine-Learning-rc/Notebooks/blob/master/Code_1.ipynb\" target=\"_parent\"><img src=\"https://colab.research.google.com/assets/colab-badge.svg\" alt=\"Open In Colab\"/></a>"
      ]
    },
    {
      "cell_type": "code",
      "metadata": {
        "id": "e4mXc-s30tBk",
        "colab_type": "code",
        "colab": {}
      },
      "source": [
        "#importing the dataset\n",
        "import pandas as pd\n",
        "\n",
        "data=pd.read_csv('Flickr8k_token.txt',sep='\\t',header=None)"
      ],
      "execution_count": 0,
      "outputs": []
    },
    {
      "cell_type": "code",
      "metadata": {
        "id": "D4dklBIS5FEU",
        "colab_type": "code",
        "colab": {}
      },
      "source": [
        "data=data.rename(columns={0:'Images',1:'Captions'})\n",
        "data[['Images','Tokens']]=data.Images.str.split('#',expand=True)\n",
        "data2=data.drop(labels='Tokens',axis=1)\n",
        "data2=data2.pivot_table(columns='Images', values='Captions',aggfunc='sum')\n",
        "data3=data2.reset_index()\n",
        "data3=data3.T\n",
        "data3.head()"
      ],
      "execution_count": 0,
      "outputs": []
    }
  ]
}