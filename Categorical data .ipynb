{
  "nbformat": 4,
  "nbformat_minor": 0,
  "metadata": {
    "colab": {
      "name": "Cat.ipynb",
      "provenance": [],
      "collapsed_sections": [],
      "mount_file_id": "1UfpmmnnUbX5IKjBJvJZJnDdc1CX224YY",
      "authorship_tag": "ABX9TyNp2LbP3/elfH/UkRw6Thif"
    },
    "kernelspec": {
      "name": "python3",
      "display_name": "Python 3"
    }
  },
  "cells": [
    {
      "cell_type": "code",
      "metadata": {
        "id": "SC5dUg6SzTKR",
        "colab_type": "code",
        "colab": {}
      },
      "source": [
        "!pip install heatmapz"
      ],
      "execution_count": 0,
      "outputs": []
    },
    {
      "cell_type": "code",
      "metadata": {
        "id": "BeVHs6gp_KFu",
        "colab_type": "code",
        "colab": {}
      },
      "source": [
        "from heatmap import heatmap, corrplot"
      ],
      "execution_count": 0,
      "outputs": []
    },
    {
      "cell_type": "code",
      "metadata": {
        "id": "2fW2HhN1_SD4",
        "colab_type": "code",
        "colab": {}
      },
      "source": [
        "import pandas as pd\n",
        "data=pd.read_csv('drive/My Drive/CAT/data_nom0.csv')"
      ],
      "execution_count": 0,
      "outputs": []
    },
    {
      "cell_type": "code",
      "metadata": {
        "id": "11NI26jI_eue",
        "colab_type": "code",
        "colab": {
          "base_uri": "https://localhost:8080/",
          "height": 613
        },
        "outputId": "08b4ff85-5fcf-46bb-e66a-60356c0d2b47"
      },
      "source": [
        "from matplotlib import pyplot as plt\n",
        "plt.figure(figsize=(10, 10))\n",
        "corrplot(data.corr(), size_scale=400)"
      ],
      "execution_count": 17,
      "outputs": [
        {
          "output_type": "display_data",
          "data": {
            "image/png": "[encoded data removed]",
            "text/plain": [
              "<Figure size 720x720 with 2 Axes>"
            ]
          },
          "metadata": {
            "tags": [],
            "needs_background": "light"
          }
        }
      ]
    },
    {
      "cell_type": "code",
      "metadata": {
        "id": "YlOOESE9BJm_",
        "colab_type": "code",
        "colab": {
          "base_uri": "https://localhost:8080/",
          "height": 258
        },
        "outputId": "c8ce024c-d40b-4893-ab57-42ad99a63239"
      },
      "source": [
        "data.head()"
      ],
      "execution_count": 26,
      "outputs": [
        {
          "output_type": "execute_result",
          "data": {
            "text/html": [
              "<div>\n",
              "<style scoped>\n",
              "    .dataframe tbody tr th:only-of-type {\n",
              "        vertical-align: middle;\n",
              "    }\n",
              "\n",
              "    .dataframe tbody tr th {\n",
              "        vertical-align: top;\n",
              "    }\n",
              "\n",
              "    .dataframe thead th {\n",
              "        text-align: right;\n",
              "    }\n",
              "</style>\n",
              "<table border=\"1\" class=\"dataframe\">\n",
              "  <thead>\n",
              "    <tr style=\"text-align: right;\">\n",
              "      <th></th>\n",
              "      <th>id</th>\n",
              "      <th>bin_0</th>\n",
              "      <th>bin_1</th>\n",
              "      <th>bin_2</th>\n",
              "      <th>bin_3</th>\n",
              "      <th>bin_4</th>\n",
              "      <th>nom_0</th>\n",
              "      <th>nom_1</th>\n",
              "      <th>nom_2</th>\n",
              "      <th>nom_3</th>\n",
              "      <th>nom_4</th>\n",
              "      <th>nom_5</th>\n",
              "      <th>nom_6</th>\n",
              "      <th>nom_7</th>\n",
              "      <th>nom_8</th>\n",
              "      <th>nom_9</th>\n",
              "      <th>ord_0</th>\n",
              "      <th>ord_1</th>\n",
              "      <th>ord_2</th>\n",
              "      <th>ord_3</th>\n",
              "      <th>ord_4</th>\n",
              "      <th>ord_5</th>\n",
              "      <th>day</th>\n",
              "      <th>month</th>\n",
              "      <th>target</th>\n",
              "    </tr>\n",
              "  </thead>\n",
              "  <tbody>\n",
              "    <tr>\n",
              "      <th>0</th>\n",
              "      <td>0</td>\n",
              "      <td>0.0</td>\n",
              "      <td>0.0</td>\n",
              "      <td>0.0</td>\n",
              "      <td>0</td>\n",
              "      <td>0</td>\n",
              "      <td>0</td>\n",
              "      <td>Trapezoid</td>\n",
              "      <td>Hamster</td>\n",
              "      <td>Russia</td>\n",
              "      <td>Bassoon</td>\n",
              "      <td>de4c57ee2</td>\n",
              "      <td>a64bc7ddf</td>\n",
              "      <td>598080a91</td>\n",
              "      <td>0256c7a4b</td>\n",
              "      <td>02e7c8990</td>\n",
              "      <td>3.0</td>\n",
              "      <td>Contributor</td>\n",
              "      <td>Hot</td>\n",
              "      <td>c</td>\n",
              "      <td>U</td>\n",
              "      <td>Pw</td>\n",
              "      <td>6.0</td>\n",
              "      <td>3.0</td>\n",
              "      <td>0</td>\n",
              "    </tr>\n",
              "    <tr>\n",
              "      <th>1</th>\n",
              "      <td>1</td>\n",
              "      <td>1.0</td>\n",
              "      <td>1.0</td>\n",
              "      <td>0.0</td>\n",
              "      <td>0</td>\n",
              "      <td>1</td>\n",
              "      <td>0</td>\n",
              "      <td>Star</td>\n",
              "      <td>Axolotl</td>\n",
              "      <td>NaN</td>\n",
              "      <td>Theremin</td>\n",
              "      <td>2bb3c3e5c</td>\n",
              "      <td>3a3a936e8</td>\n",
              "      <td>1dddb8473</td>\n",
              "      <td>52ead350c</td>\n",
              "      <td>f37df64af</td>\n",
              "      <td>3.0</td>\n",
              "      <td>Grandmaster</td>\n",
              "      <td>Warm</td>\n",
              "      <td>e</td>\n",
              "      <td>X</td>\n",
              "      <td>pE</td>\n",
              "      <td>7.0</td>\n",
              "      <td>7.0</td>\n",
              "      <td>0</td>\n",
              "    </tr>\n",
              "    <tr>\n",
              "      <th>2</th>\n",
              "      <td>2</td>\n",
              "      <td>0.0</td>\n",
              "      <td>1.0</td>\n",
              "      <td>0.0</td>\n",
              "      <td>0</td>\n",
              "      <td>0</td>\n",
              "      <td>0</td>\n",
              "      <td>NaN</td>\n",
              "      <td>Hamster</td>\n",
              "      <td>Canada</td>\n",
              "      <td>Bassoon</td>\n",
              "      <td>b574c9841</td>\n",
              "      <td>708248125</td>\n",
              "      <td>5ddc9a726</td>\n",
              "      <td>745b909d1</td>\n",
              "      <td>NaN</td>\n",
              "      <td>3.0</td>\n",
              "      <td>NaN</td>\n",
              "      <td>Freezing</td>\n",
              "      <td>n</td>\n",
              "      <td>P</td>\n",
              "      <td>eN</td>\n",
              "      <td>5.0</td>\n",
              "      <td>9.0</td>\n",
              "      <td>0</td>\n",
              "    </tr>\n",
              "    <tr>\n",
              "      <th>3</th>\n",
              "      <td>3</td>\n",
              "      <td>0.0</td>\n",
              "      <td>0.0</td>\n",
              "      <td>0.0</td>\n",
              "      <td>0</td>\n",
              "      <td>0</td>\n",
              "      <td>0</td>\n",
              "      <td>Circle</td>\n",
              "      <td>Hamster</td>\n",
              "      <td>Finland</td>\n",
              "      <td>Theremin</td>\n",
              "      <td>673bdf1f6</td>\n",
              "      <td>23edb8da3</td>\n",
              "      <td>3a33ef960</td>\n",
              "      <td>bdaa56dd1</td>\n",
              "      <td>f9d456e57</td>\n",
              "      <td>1.0</td>\n",
              "      <td>Novice</td>\n",
              "      <td>Lava Hot</td>\n",
              "      <td>a</td>\n",
              "      <td>C</td>\n",
              "      <td>NaN</td>\n",
              "      <td>3.0</td>\n",
              "      <td>3.0</td>\n",
              "      <td>0</td>\n",
              "    </tr>\n",
              "    <tr>\n",
              "      <th>4</th>\n",
              "      <td>4</td>\n",
              "      <td>0.0</td>\n",
              "      <td>0.0</td>\n",
              "      <td>0.0</td>\n",
              "      <td>1</td>\n",
              "      <td>0</td>\n",
              "      <td>0</td>\n",
              "      <td>Triangle</td>\n",
              "      <td>Hamster</td>\n",
              "      <td>Costa Rica</td>\n",
              "      <td>NaN</td>\n",
              "      <td>777d1ac2c</td>\n",
              "      <td>3a7975e46</td>\n",
              "      <td>bc9cc2a94</td>\n",
              "      <td>NaN</td>\n",
              "      <td>c5361037c</td>\n",
              "      <td>3.0</td>\n",
              "      <td>Grandmaster</td>\n",
              "      <td>Cold</td>\n",
              "      <td>h</td>\n",
              "      <td>C</td>\n",
              "      <td>OZ</td>\n",
              "      <td>5.0</td>\n",
              "      <td>12.0</td>\n",
              "      <td>0</td>\n",
              "    </tr>\n",
              "  </tbody>\n",
              "</table>\n",
              "</div>"
            ],
            "text/plain": [
              "   id  bin_0  bin_1  bin_2  bin_3  bin_4  ...  ord_3 ord_4 ord_5  day month target\n",
              "0   0    0.0    0.0    0.0      0      0  ...      c     U    Pw  6.0   3.0      0\n",
              "1   1    1.0    1.0    0.0      0      1  ...      e     X    pE  7.0   7.0      0\n",
              "2   2    0.0    1.0    0.0      0      0  ...      n     P    eN  5.0   9.0      0\n",
              "3   3    0.0    0.0    0.0      0      0  ...      a     C   NaN  3.0   3.0      0\n",
              "4   4    0.0    0.0    0.0      1      0  ...      h     C    OZ  5.0  12.0      0\n",
              "\n",
              "[5 rows x 25 columns]"
            ]
          },
          "metadata": {
            "tags": []
          },
          "execution_count": 26
        }
      ]
    },
    {
      "cell_type": "code",
      "metadata": {
        "id": "kosdGVrCIjxJ",
        "colab_type": "code",
        "colab": {
          "base_uri": "https://localhost:8080/",
          "height": 51
        },
        "outputId": "e05d29f2-6f63-4983-a21e-8c6b3598a589"
      },
      "source": [
        "data['nom_1'].unique()"
      ],
      "execution_count": 77,
      "outputs": [
        {
          "output_type": "execute_result",
          "data": {
            "text/plain": [
              "array(['Trapezoid', 'Star', nan, 'Circle', 'Triangle', 'Polygon',\n",
              "       'Square'], dtype=object)"
            ]
          },
          "metadata": {
            "tags": []
          },
          "execution_count": 77
        }
      ]
    },
    {
      "cell_type": "code",
      "metadata": {
        "id": "i1-DYYZUVc-Q",
        "colab_type": "code",
        "colab": {}
      },
      "source": [
        "import numpy as np"
      ],
      "execution_count": 0,
      "outputs": []
    },
    {
      "cell_type": "code",
      "metadata": {
        "id": "gz--jHz3RfF1",
        "colab_type": "code",
        "colab": {}
      },
      "source": [
        "objects=['Trapezoid', 'Star', 'Circle', 'Triangle', 'Polygon','Square']\n",
        "array=np.zeros((36,1))\n",
        "for x in range(len(data)-1):\n",
        "  y=x+1\n",
        "  if data['nom_1'][x]==objects[0] and data['nom_1'][y]==objects[0]:\n",
        "    array[0]+=1\n",
        "  if data['nom_1'][x]==objects[0] and data['nom_1'][y]==objects[1]:\n",
        "    array[1]+=1\n",
        "  if data['nom_1'][x]==objects[0] and data['nom_1'][y]==objects[2]:\n",
        "    array[2]+=1\n",
        "  if data['nom_1'][x]==objects[0] and data['nom_1'][y]==objects[3]:\n",
        "    array[3]+=1\n",
        "  if data['nom_1'][x]==objects[0] and data['nom_1'][y]==objects[4]:\n",
        "    array[4]+=1\n",
        "  if data['nom_1'][x]==objects[0] and data['nom_1'][y]==objects[5]:\n",
        "    array[5]+=1\n",
        "\n",
        "\n",
        "  if data['nom_1'][x]==objects[1] and data['nom_1'][y]==objects[0]:\n",
        "    array[6]+=1\n",
        "  if data['nom_1'][x]==objects[1] and data['nom_1'][y]==objects[1]:\n",
        "    array[7]+=1\n",
        "  if data['nom_1'][x]==objects[1] and data['nom_1'][y]==objects[2]:\n",
        "    array[8]+=1\n",
        "  if data['nom_1'][x]==objects[1] and data['nom_1'][y]==objects[3]:\n",
        "    array[9]+=1\n",
        "  if data['nom_1'][x]==objects[1] and data['nom_1'][y]==objects[4]:\n",
        "    array[10]+=1\n",
        "  if data['nom_1'][x]==objects[1] and data['nom_1'][y]==objects[5]:\n",
        "    array[11]+=1\n",
        "  \n",
        "  if data['nom_1'][x]==objects[2] and data['nom_1'][y]==objects[0]:\n",
        "    array[12]+=1\n",
        "  if data['nom_1'][x]==objects[2] and data['nom_1'][y]==objects[1]:\n",
        "    array[13]+=1\n",
        "  if data['nom_1'][x]==objects[2] and data['nom_1'][y]==objects[2]:\n",
        "    array[14]+=1\n",
        "  if data['nom_1'][x]==objects[2] and data['nom_1'][y]==objects[3]:\n",
        "    array[15]+=1\n",
        "  if data['nom_1'][x]==objects[2] and data['nom_1'][y]==objects[4]:\n",
        "    array[16]+=1\n",
        "  if data['nom_1'][x]==objects[2] and data['nom_1'][y]==objects[5]:\n",
        "    array[17]+=1\n",
        "  \n",
        "  if data['nom_1'][x]==objects[3] and data['nom_1'][y]==objects[0]:\n",
        "    array[18]+=1\n",
        "  if data['nom_1'][x]==objects[3] and data['nom_1'][y]==objects[1]:\n",
        "    array[19]+=1\n",
        "  if data['nom_1'][x]==objects[3] and data['nom_1'][y]==objects[2]:\n",
        "    array[20]+=1\n",
        "  if data['nom_1'][x]==objects[3] and data['nom_1'][y]==objects[3]:\n",
        "    array[21]+=1\n",
        "  if data['nom_1'][x]==objects[3] and data['nom_1'][y]==objects[4]:\n",
        "    array[22]+=1\n",
        "  if data['nom_1'][x]==objects[3] and data['nom_1'][y]==objects[5]:\n",
        "    array[23]+=1\n",
        "  \n",
        "  if data['nom_1'][x]==objects[4] and data['nom_1'][y]==objects[0]:\n",
        "    array[24]+=1\n",
        "  if data['nom_1'][x]==objects[4] and data['nom_1'][y]==objects[1]:\n",
        "    array[25]+=1\n",
        "  if data['nom_1'][x]==objects[4] and data['nom_1'][y]==objects[2]:\n",
        "    array[26]+=1\n",
        "  if data['nom_1'][x]==objects[4] and data['nom_1'][y]==objects[3]:\n",
        "    array[27]+=1\n",
        "  if data['nom_1'][x]==objects[4] and data['nom_1'][y]==objects[4]:\n",
        "    array[28]+=1\n",
        "  if data['nom_1'][x]==objects[4] and data['nom_1'][y]==objects[5]:\n",
        "    array[29]+=1\n",
        "  \n",
        "  if data['nom_1'][x]==objects[5] and data['nom_1'][y]==objects[0]:\n",
        "    array[30]+=1\n",
        "  if data['nom_1'][x]==objects[5] and data['nom_1'][y]==objects[1]:\n",
        "    array[31]+=1\n",
        "  if data['nom_1'][x]==objects[5] and data['nom_1'][y]==objects[2]:\n",
        "    array[32]+=1\n",
        "  if data['nom_1'][x]==objects[5] and data['nom_1'][y]==objects[3]:\n",
        "    array[33]+=1\n",
        "  if data['nom_1'][x]==objects[5] and data['nom_1'][y]==objects[4]:\n",
        "    array[34]+=1\n",
        "  if data['nom_1'][x]==objects[5] and data['nom_1'][y]==objects[5]:\n",
        "    array[35]+=1\n",
        "\n",
        "array"
      ],
      "execution_count": 0,
      "outputs": []
    },
    {
      "cell_type": "code",
      "metadata": {
        "id": "ooDtVNU8wJZL",
        "colab_type": "code",
        "colab": {}
      },
      "source": [
        "array2=array.copy()\n",
        "j=0\n",
        "for i in range(36):\n",
        "  if i%6==0 and i!=0:\n",
        "    j+=6\n",
        "  array2[i]=array2[i]/np.sum(array[j:j+6])\n",
        "np.save('array',array2)"
      ],
      "execution_count": 0,
      "outputs": []
    },
    {
      "cell_type": "code",
      "metadata": {
        "id": "ZKAvMUCi71c6",
        "colab_type": "code",
        "colab": {}
      },
      "source": [
        "import random "
      ],
      "execution_count": 0,
      "outputs": []
    },
    {
      "cell_type": "code",
      "metadata": {
        "id": "ivlftLI-6zgc",
        "colab_type": "code",
        "colab": {
          "base_uri": "https://localhost:8080/",
          "height": 119
        },
        "outputId": "bad11520-592f-40c9-f910-569d1cc922e5"
      },
      "source": [
        "array2[:6]"
      ],
      "execution_count": 157,
      "outputs": [
        {
          "output_type": "execute_result",
          "data": {
            "text/plain": [
              "array([[0.20423618],\n",
              "       [0.02383173],\n",
              "       [0.17952371],\n",
              "       [0.28331261],\n",
              "       [0.26326287],\n",
              "       [0.0458329 ]])"
            ]
          },
          "metadata": {
            "tags": []
          },
          "execution_count": 157
        }
      ]
    },
    {
      "cell_type": "code",
      "metadata": {
        "id": "XCFYzKEX8V55",
        "colab_type": "code",
        "colab": {
          "base_uri": "https://localhost:8080/",
          "height": 119
        },
        "outputId": "61c8026c-2b93-4999-83c8-3dcda6234af9"
      },
      "source": [
        "array2[6:12]"
      ],
      "execution_count": 159,
      "outputs": [
        {
          "output_type": "execute_result",
          "data": {
            "text/plain": [
              "array([[0.20551835],\n",
              "       [0.02438847],\n",
              "       [0.1822219 ],\n",
              "       [0.2813046 ],\n",
              "       [0.26346826],\n",
              "       [0.04309843]])"
            ]
          },
          "metadata": {
            "tags": []
          },
          "execution_count": 159
        }
      ]
    },
    {
      "cell_type": "code",
      "metadata": {
        "id": "HGUIUjFS8fVk",
        "colab_type": "code",
        "colab": {
          "base_uri": "https://localhost:8080/",
          "height": 119
        },
        "outputId": "2c5e167f-846f-4320-da8e-bd1766e0d323"
      },
      "source": [
        "array2[12:18]"
      ],
      "execution_count": 160,
      "outputs": [
        {
          "output_type": "execute_result",
          "data": {
            "text/plain": [
              "array([[0.20434757],\n",
              "       [0.02445017],\n",
              "       [0.18113564],\n",
              "       [0.28222842],\n",
              "       [0.26285894],\n",
              "       [0.04497926]])"
            ]
          },
          "metadata": {
            "tags": []
          },
          "execution_count": 160
        }
      ]
    },
    {
      "cell_type": "code",
      "metadata": {
        "id": "5dvBkAiw_dng",
        "colab_type": "code",
        "colab": {
          "base_uri": "https://localhost:8080/",
          "height": 547
        },
        "outputId": "9d84f9fa-0f81-472c-89f9-5a0ecc1a1e4c"
      },
      "source": [
        "for x in range(len(data)):\n",
        "  if data['nom_1'][x] not in objects:\n",
        "    y=random.random()\n",
        "    if y<=array2[1]:\n",
        "      data['nom_1'][x]=objects[1]\n",
        "    if y<=array2[5] and y>array2[1]:\n",
        "      data['nom_1'][x]=objects[5]\n",
        "    if y<=array2[2] and y>array2[5]:\n",
        "      data['nom_1'][x]=objects[2]\n",
        "    if y<=array2[0] and y>array2[2]:\n",
        "      data['nom_1'][x]=objects[0]\n",
        "    if y<=array2[4] and y>array2[0]:\n",
        "      data['nom_1'][x]=objects[4]\n",
        "    if y>array2[4]:\n",
        "      data['nom_1'][x]=objects[3]"
      ],
      "execution_count": 168,
      "outputs": [
        {
          "output_type": "stream",
          "text": [
            "/usr/local/lib/python3.6/dist-packages/ipykernel_launcher.py:15: SettingWithCopyWarning: \n",
            "A value is trying to be set on a copy of a slice from a DataFrame\n",
            "\n",
            "See the caveats in the documentation: https://pandas.pydata.org/pandas-docs/stable/user_guide/indexing.html#returning-a-view-versus-a-copy\n",
            "  from ipykernel import kernelapp as app\n",
            "/usr/local/lib/python3.6/dist-packages/ipykernel_launcher.py:13: SettingWithCopyWarning: \n",
            "A value is trying to be set on a copy of a slice from a DataFrame\n",
            "\n",
            "See the caveats in the documentation: https://pandas.pydata.org/pandas-docs/stable/user_guide/indexing.html#returning-a-view-versus-a-copy\n",
            "  del sys.path[0]\n",
            "/usr/local/lib/python3.6/dist-packages/ipykernel_launcher.py:9: SettingWithCopyWarning: \n",
            "A value is trying to be set on a copy of a slice from a DataFrame\n",
            "\n",
            "See the caveats in the documentation: https://pandas.pydata.org/pandas-docs/stable/user_guide/indexing.html#returning-a-view-versus-a-copy\n",
            "  if __name__ == '__main__':\n",
            "/usr/local/lib/python3.6/dist-packages/ipykernel_launcher.py:5: SettingWithCopyWarning: \n",
            "A value is trying to be set on a copy of a slice from a DataFrame\n",
            "\n",
            "See the caveats in the documentation: https://pandas.pydata.org/pandas-docs/stable/user_guide/indexing.html#returning-a-view-versus-a-copy\n",
            "  \"\"\"\n",
            "/usr/local/lib/python3.6/dist-packages/ipykernel_launcher.py:7: SettingWithCopyWarning: \n",
            "A value is trying to be set on a copy of a slice from a DataFrame\n",
            "\n",
            "See the caveats in the documentation: https://pandas.pydata.org/pandas-docs/stable/user_guide/indexing.html#returning-a-view-versus-a-copy\n",
            "  import sys\n",
            "/usr/local/lib/python3.6/dist-packages/ipykernel_launcher.py:11: SettingWithCopyWarning: \n",
            "A value is trying to be set on a copy of a slice from a DataFrame\n",
            "\n",
            "See the caveats in the documentation: https://pandas.pydata.org/pandas-docs/stable/user_guide/indexing.html#returning-a-view-versus-a-copy\n",
            "  # This is added back by InteractiveShellApp.init_path()\n"
          ],
          "name": "stderr"
        }
      ]
    },
    {
      "cell_type": "code",
      "metadata": {
        "id": "Fdn4jtxnAWHZ",
        "colab_type": "code",
        "colab": {}
      },
      "source": [
        "(data['nom_1']).replace('Trapezoid',0,inplace=True,limit=len(data))\n",
        "(data['nom_1']).replace('Star',1,inplace=True,limit=len(data))\n",
        "(data['nom_1']).replace('Triangle',2,inplace=True,limit=len(data))\n",
        "(data['nom_1']).replace('Circle',3,inplace=True,limit=len(data))\n",
        "(data['nom_1']).replace('Polygon',4,inplace=True,limit=len(data))\n",
        "(data['nom_1']).replace('Square',5,inplace=True,limit=len(data))"
      ],
      "execution_count": 0,
      "outputs": []
    },
    {
      "cell_type": "code",
      "metadata": {
        "id": "D62bZyYyBPMT",
        "colab_type": "code",
        "colab": {
          "base_uri": "https://localhost:8080/",
          "height": 34
        },
        "outputId": "659a1a15-0750-479e-86e8-19cb00555ad0"
      },
      "source": [
        "data['nom_1'].unique()"
      ],
      "execution_count": 174,
      "outputs": [
        {
          "output_type": "execute_result",
          "data": {
            "text/plain": [
              "array([0, 1, 2, 3, 4, 5])"
            ]
          },
          "metadata": {
            "tags": []
          },
          "execution_count": 174
        }
      ]
    },
    {
      "cell_type": "code",
      "metadata": {
        "id": "ExcjsmYH7SNg",
        "colab_type": "code",
        "colab": {}
      },
      "source": [
        "j=0\n",
        "rs=[0,0,0,0,0,0]\n",
        "for x in range(len(data)):\n",
        "  if data['nom_1'][x] not in objects:\n",
        "    y=random.random()\n",
        "    if data['nom_1'][x-1]==objects[0]:\n",
        "      rs=array2[0:6]\n",
        "      if y<=rs[1]:\n",
        "        data['nom_1'][x]=objects[1]\n",
        "      if y<=rs[5] and y>rs[1]:\n",
        "        data['nom_1'][x]=objects[5]\n",
        "      if y<=rs[2] and y>rs[5]:\n",
        "        data['nom_1'][x]=objects[2]\n",
        "      if y<=rs[0] and y>rs[2]:\n",
        "        data['nom_1'][x]=objects[0]\n",
        "      if y<=rs[4] and y>rs[0]:\n",
        "        data['nom_1'][x]=objects[4]\n",
        "      if y>rs[3]:\n",
        "        data['nom_1'][x]=objects[3]\n",
        "    \n",
        "    if data['nom_1'][x-1]==objects[1]:\n",
        "      rs=array2[6:12]\n",
        "      if y<=rs[1]:\n",
        "        data['nom_1'][x]=objects[1]\n",
        "      if y<=rs[5] and y>rs[1]:\n",
        "        data['nom_1'][x]=objects[5]\n",
        "      if y<=rs[2] and y>rs[5]:\n",
        "        data['nom_1'][x]=objects[2]\n",
        "      if y<=rs[0] and y>rs[2]:\n",
        "        data['nom_1'][x]=objects[0]\n",
        "      if y<=rs[4] and y>rs[0]:\n",
        "        data['nom_1'][x]=objects[4]\n",
        "      if y>rs[3]:\n",
        "        data['nom_1'][x]=objects[3]\n",
        "    \n",
        "    if data['nom_1'][x-1]==objects[2]:\n",
        "      rs=array2[12:18]\n",
        "      if y<=rs[1]:\n",
        "        data['nom_1'][x]=objects[1]\n",
        "      if y<=rs[5] and y>rs[1]:\n",
        "        data['nom_1'][x]=objects[5]\n",
        "      if y<=rs[2] and y>rs[5]:\n",
        "        data['nom_1'][x]=objects[2]\n",
        "      if y<=rs[0] and y>rs[2]:\n",
        "        data['nom_1'][x]=objects[0]\n",
        "      if y<=rs[4] and y>rs[0]:\n",
        "        data['nom_1'][x]=objects[4]\n",
        "      if y>rs[3]:\n",
        "        data['nom_1'][x]=objects[3]\n",
        "    \n",
        "    if data['nom_1'][x-1]==objects[3]:\n",
        "      rs=array2[18:24]\n",
        "      if y<=rs[1]:\n",
        "        data['nom_1'][x]=objects[1]\n",
        "      if y<=rs[5] and y>rs[1]:\n",
        "        data['nom_1'][x]=objects[5]\n",
        "      if y<=rs[2] and y>rs[5]:\n",
        "        data['nom_1'][x]=objects[2]\n",
        "      if y<=rs[0] and y>rs[2]:\n",
        "        data['nom_1'][x]=objects[0]\n",
        "      if y<=rs[4] and y>rs[0]:\n",
        "        data['nom_1'][x]=objects[4]\n",
        "      if y>rs[3]:\n",
        "        data['nom_1'][x]=objects[3]\n",
        "    \n",
        "    if data['nom_1'][x-1]==objects[4]:\n",
        "      rs=array2[24:30]\n",
        "      if y<=rs[1]:\n",
        "        data['nom_1'][x]=objects[1]\n",
        "      if y<=rs[5] and y>rs[1]:\n",
        "        data['nom_1'][x]=objects[5]\n",
        "      if y<=rs[2] and y>rs[5]:\n",
        "        data['nom_1'][x]=objects[2]\n",
        "      if y<=rs[0] and y>rs[2]:\n",
        "        data['nom_1'][x]=objects[0]\n",
        "      if y<=rs[4] and y>rs[0]:\n",
        "        data['nom_1'][x]=objects[4]\n",
        "      if y>rs[3]:\n",
        "        data['nom_1'][x]=objects[3]\n",
        "    \n",
        "    if data['nom_1'][x-1]==objects[5]:\n",
        "      rs=array2[30:36]\n",
        "      if y<=rs[1]:\n",
        "        data['nom_1'][x]=objects[1]\n",
        "      if y<=rs[5] and y>rs[1]:\n",
        "        data['nom_1'][x]=objects[5]\n",
        "      if y<=rs[2] and y>rs[5]:\n",
        "        data['nom_1'][x]=objects[2]\n",
        "      if y<=rs[0] and y>rs[2]:\n",
        "        data['nom_1'][x]=objects[0]\n",
        "      if y<=rs[4] and y>rs[0]:\n",
        "        data['nom_1'][x]=objects[4]\n",
        "      if y>rs[3]:\n",
        "        data['nom_1'][x]=objects[3]"
      ],
      "execution_count": 0,
      "outputs": []
    },
    {
      "cell_type": "code",
      "metadata": {
        "id": "0s1yqDXX-q6W",
        "colab_type": "code",
        "colab": {
          "base_uri": "https://localhost:8080/",
          "height": 34
        },
        "outputId": "d6f62233-8477-4b3a-a29f-ca10e03fb613"
      },
      "source": [
        "data['nom_1'].isnull().sum()"
      ],
      "execution_count": 166,
      "outputs": [
        {
          "output_type": "execute_result",
          "data": {
            "text/plain": [
              "18156"
            ]
          },
          "metadata": {
            "tags": []
          },
          "execution_count": 166
        }
      ]
    },
    {
      "cell_type": "code",
      "metadata": {
        "id": "v-XuEaXJ_Y9O",
        "colab_type": "code",
        "colab": {}
      },
      "source": [
        ""
      ],
      "execution_count": 0,
      "outputs": []
    }
  ]
}