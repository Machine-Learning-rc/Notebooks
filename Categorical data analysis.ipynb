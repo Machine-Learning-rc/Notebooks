{
  "nbformat": 4,
  "nbformat_minor": 0,
  "metadata": {
    "colab": {
      "name": "Cat.ipynb",
      "provenance": [],
      "collapsed_sections": [],
      "mount_file_id": "1UfpmmnnUbX5IKjBJvJZJnDdc1CX224YY",
      "authorship_tag": "ABX9TyPOttAub4RxglMo+FHxAKR/"
    },
    "kernelspec": {
      "name": "python3",
      "display_name": "Python 3"
    }
  },
  "cells": [
    {
      "cell_type": "code",
      "metadata": {
        "id": "gUile0zUU9wc",
        "colab_type": "code",
        "colab": {}
      },
      "source": [
        "import pandas as pd\n",
        "data=pd.read_csv('data_nom2.csv')"
      ],
      "execution_count": 0,
      "outputs": []
    },
    {
      "cell_type": "code",
      "metadata": {
        "id": "bG-aAwvdMuPH",
        "colab_type": "code",
        "colab": {
          "base_uri": "https://localhost:8080/",
          "height": 51
        },
        "outputId": "5355a62c-d992-41bc-edea-0f1d68808d08"
      },
      "source": [
        "data['nom_3'].unique()"
      ],
      "execution_count": 34,
      "outputs": [
        {
          "output_type": "execute_result",
          "data": {
            "text/plain": [
              "array(['Russia', nan, 'Canada', 'Finland', 'Costa Rica', 'China', 'India'],\n",
              "      dtype=object)"
            ]
          },
          "metadata": {
            "tags": []
          },
          "execution_count": 34
        }
      ]
    },
    {
      "cell_type": "code",
      "metadata": {
        "id": "gz--jHz3RfF1",
        "colab_type": "code",
        "colab": {}
      },
      "source": [
        "objects=['Russia','Canada', 'Finland', 'Costa Rica', 'China', 'India']\n",
        "array=np.zeros((36,1))\n",
        "r='nom_3'\n",
        "for x in range(len(data)-1):\n",
        "  y=x+1\n",
        "  if data[r][x]==objects[0] and data[r][y]==objects[0]:\n",
        "    array[0]+=1\n",
        "  if data[r][x]==objects[0] and data[r][y]==objects[1]:\n",
        "    array[1]+=1\n",
        "  if data[r][x]==objects[0] and data[r][y]==objects[2]:\n",
        "    array[2]+=1\n",
        "  if data[r][x]==objects[0] and data[r][y]==objects[3]:\n",
        "    array[3]+=1\n",
        "  if data[r][x]==objects[0] and data[r][y]==objects[4]:\n",
        "    array[4]+=1\n",
        "  if data[r][x]==objects[0] and data[r][y]==objects[5]:\n",
        "    array[5]+=1\n",
        "\n",
        "\n",
        "  if data[r][x]==objects[1] and data[r][y]==objects[0]:\n",
        "    array[6]+=1\n",
        "  if data[r][x]==objects[1] and data[r][y]==objects[1]:\n",
        "    array[7]+=1\n",
        "  if data[r][x]==objects[1] and data[r][y]==objects[2]:\n",
        "    array[8]+=1\n",
        "  if data[r][x]==objects[1] and data[r][y]==objects[3]:\n",
        "    array[9]+=1\n",
        "  if data[r][x]==objects[1] and data[r][y]==objects[4]:\n",
        "    array[10]+=1\n",
        "  if data[r][x]==objects[1] and data[r][y]==objects[5]:\n",
        "    array[11]+=1\n",
        "  \n",
        "  if data[r][x]==objects[2] and data[r][y]==objects[0]:\n",
        "    array[12]+=1\n",
        "  if data[r][x]==objects[2] and data[r][y]==objects[1]:\n",
        "    array[13]+=1\n",
        "  if data[r][x]==objects[2] and data[r][y]==objects[2]:\n",
        "    array[14]+=1\n",
        "  if data[r][x]==objects[2] and data[r][y]==objects[3]:\n",
        "    array[15]+=1\n",
        "  if data[r][x]==objects[2] and data[r][y]==objects[4]:\n",
        "    array[16]+=1\n",
        "  if data[r][x]==objects[2] and data[r][y]==objects[5]:\n",
        "    array[17]+=1\n",
        "  \n",
        "  if data[r][x]==objects[3] and data[r][y]==objects[0]:\n",
        "    array[18]+=1\n",
        "  if data[r][x]==objects[3] and data[r][y]==objects[1]:\n",
        "    array[19]+=1\n",
        "  if data[r][x]==objects[3] and data[r][y]==objects[2]:\n",
        "    array[20]+=1\n",
        "  if data[r][x]==objects[3] and data[r][y]==objects[3]:\n",
        "    array[21]+=1\n",
        "  if data[r][x]==objects[3] and data[r][y]==objects[4]:\n",
        "    array[22]+=1\n",
        "  if data[r][x]==objects[3] and data[r][y]==objects[5]:\n",
        "    array[23]+=1\n",
        "  \n",
        "  if data[r][x]==objects[4] and data[r][y]==objects[0]:\n",
        "    array[24]+=1\n",
        "  if data[r][x]==objects[4] and data[r][y]==objects[1]:\n",
        "    array[25]+=1\n",
        "  if data[r][x]==objects[4] and data[r][y]==objects[2]:\n",
        "    array[26]+=1\n",
        "  if data[r][x]==objects[4] and data[r][y]==objects[3]:\n",
        "    array[27]+=1\n",
        "  if data[r][x]==objects[4] and data[r][y]==objects[4]:\n",
        "    array[28]+=1\n",
        "  if data[r][x]==objects[4] and data[r][y]==objects[5]:\n",
        "    array[29]+=1\n",
        "  \n",
        "  if data[r][x]==objects[5] and data[r][y]==objects[0]:\n",
        "    array[30]+=1\n",
        "  if data[r][x]==objects[5] and data[r][y]==objects[1]:\n",
        "    array[31]+=1\n",
        "  if data[r][x]==objects[5] and data[r][y]==objects[2]:\n",
        "    array[32]+=1\n",
        "  if data[r][x]==objects[5] and data[r][y]==objects[3]:\n",
        "    array[33]+=1\n",
        "  if data[r][x]==objects[5] and data[r][y]==objects[4]:\n",
        "    array[34]+=1\n",
        "  if data[r][x]==objects[5] and data[r][y]==objects[5]:\n",
        "    array[35]+=1"
      ],
      "execution_count": 0,
      "outputs": []
    },
    {
      "cell_type": "code",
      "metadata": {
        "id": "n4_2t5UbL4Qz",
        "colab_type": "code",
        "colab": {}
      },
      "source": [
        "array2=array.copy()\n",
        "j=0\n",
        "for i in range(36):\n",
        "  if i%6==0 and i!=0:\n",
        "    j+=6\n",
        "  array2[i]=array2[i]/np.sum(array[j:j+6])"
      ],
      "execution_count": 0,
      "outputs": []
    },
    {
      "cell_type": "code",
      "metadata": {
        "id": "STLYRgGWNsim",
        "colab_type": "code",
        "colab": {
          "base_uri": "https://localhost:8080/",
          "height": 119
        },
        "outputId": "b4e79cb3-14e9-43a9-c137-bd719d9e1997"
      },
      "source": [
        "array2[:6]"
      ],
      "execution_count": 37,
      "outputs": [
        {
          "output_type": "execute_result",
          "data": {
            "text/plain": [
              "array([[0.20757348],\n",
              "       [0.04519127],\n",
              "       [0.17834674],\n",
              "       [0.26146564],\n",
              "       [0.02444167],\n",
              "       [0.2829812 ]])"
            ]
          },
          "metadata": {
            "tags": []
          },
          "execution_count": 37
        }
      ]
    },
    {
      "cell_type": "code",
      "metadata": {
        "id": "nCb1o3e6RRVa",
        "colab_type": "code",
        "colab": {
          "base_uri": "https://localhost:8080/",
          "height": 119
        },
        "outputId": "2cd6861e-83fb-405b-f984-d00db7ed297c"
      },
      "source": [
        "array2[6:12]"
      ],
      "execution_count": 38,
      "outputs": [
        {
          "output_type": "execute_result",
          "data": {
            "text/plain": [
              "array([[0.20601627],\n",
              "       [0.0452582 ],\n",
              "       [0.18114955],\n",
              "       [0.2601471 ],\n",
              "       [0.02389384],\n",
              "       [0.28353504]])"
            ]
          },
          "metadata": {
            "tags": []
          },
          "execution_count": 38
        }
      ]
    },
    {
      "cell_type": "code",
      "metadata": {
        "id": "ep54PdMgY7MW",
        "colab_type": "code",
        "colab": {
          "base_uri": "https://localhost:8080/",
          "height": 119
        },
        "outputId": "bd8e20d6-9664-4eb1-eeb2-c17cc5407f2a"
      },
      "source": [
        "array2[12:18]"
      ],
      "execution_count": 40,
      "outputs": [
        {
          "output_type": "execute_result",
          "data": {
            "text/plain": [
              "array([[0.20620609],\n",
              "       [0.04482613],\n",
              "       [0.18113736],\n",
              "       [0.26119175],\n",
              "       [0.02482238],\n",
              "       [0.2818163 ]])"
            ]
          },
          "metadata": {
            "tags": []
          },
          "execution_count": 40
        }
      ]
    },
    {
      "cell_type": "code",
      "metadata": {
        "id": "pTCVvuBIaebW",
        "colab_type": "code",
        "colab": {}
      },
      "source": [
        "import random"
      ],
      "execution_count": 0,
      "outputs": []
    },
    {
      "cell_type": "code",
      "metadata": {
        "id": "5dvBkAiw_dng",
        "colab_type": "code",
        "colab": {
          "base_uri": "https://localhost:8080/",
          "height": 547
        },
        "outputId": "c1ca985f-ea43-4e61-f94b-64766e361a14"
      },
      "source": [
        "for x in range(len(data)):\n",
        "  if data[r][x] not in objects:\n",
        "    y=random.random()\n",
        "    if y<=array2[4]:\n",
        "      data[r][x]=objects[4]\n",
        "    if y<=array2[1] and y>array2[4]:\n",
        "      data[r][x]=objects[1]\n",
        "    if y<=array2[2] and y>array2[1]:\n",
        "      data[r][x]=objects[2]\n",
        "    if y<=array2[0] and y>array2[2]:\n",
        "      data[r][x]=objects[0]\n",
        "    if y<=array2[3] and y>array2[0]:\n",
        "      data[r][x]=objects[3]\n",
        "    if y>array2[3]:\n",
        "      data[r][x]=objects[5]"
      ],
      "execution_count": 45,
      "outputs": [
        {
          "output_type": "stream",
          "text": [
            "/usr/local/lib/python3.6/dist-packages/ipykernel_launcher.py:15: SettingWithCopyWarning: \n",
            "A value is trying to be set on a copy of a slice from a DataFrame\n",
            "\n",
            "See the caveats in the documentation: https://pandas.pydata.org/pandas-docs/stable/user_guide/indexing.html#returning-a-view-versus-a-copy\n",
            "  from ipykernel import kernelapp as app\n",
            "/usr/local/lib/python3.6/dist-packages/ipykernel_launcher.py:9: SettingWithCopyWarning: \n",
            "A value is trying to be set on a copy of a slice from a DataFrame\n",
            "\n",
            "See the caveats in the documentation: https://pandas.pydata.org/pandas-docs/stable/user_guide/indexing.html#returning-a-view-versus-a-copy\n",
            "  if __name__ == '__main__':\n",
            "/usr/local/lib/python3.6/dist-packages/ipykernel_launcher.py:13: SettingWithCopyWarning: \n",
            "A value is trying to be set on a copy of a slice from a DataFrame\n",
            "\n",
            "See the caveats in the documentation: https://pandas.pydata.org/pandas-docs/stable/user_guide/indexing.html#returning-a-view-versus-a-copy\n",
            "  del sys.path[0]\n",
            "/usr/local/lib/python3.6/dist-packages/ipykernel_launcher.py:7: SettingWithCopyWarning: \n",
            "A value is trying to be set on a copy of a slice from a DataFrame\n",
            "\n",
            "See the caveats in the documentation: https://pandas.pydata.org/pandas-docs/stable/user_guide/indexing.html#returning-a-view-versus-a-copy\n",
            "  import sys\n",
            "/usr/local/lib/python3.6/dist-packages/ipykernel_launcher.py:5: SettingWithCopyWarning: \n",
            "A value is trying to be set on a copy of a slice from a DataFrame\n",
            "\n",
            "See the caveats in the documentation: https://pandas.pydata.org/pandas-docs/stable/user_guide/indexing.html#returning-a-view-versus-a-copy\n",
            "  \"\"\"\n",
            "/usr/local/lib/python3.6/dist-packages/ipykernel_launcher.py:11: SettingWithCopyWarning: \n",
            "A value is trying to be set on a copy of a slice from a DataFrame\n",
            "\n",
            "See the caveats in the documentation: https://pandas.pydata.org/pandas-docs/stable/user_guide/indexing.html#returning-a-view-versus-a-copy\n",
            "  # This is added back by InteractiveShellApp.init_path()\n"
          ],
          "name": "stderr"
        }
      ]
    },
    {
      "cell_type": "code",
      "metadata": {
        "id": "TaJ7v_jtOffd",
        "colab_type": "code",
        "colab": {
          "base_uri": "https://localhost:8080/",
          "height": 51
        },
        "outputId": "abd42bae-b8de-4003-adef-030ebd06f0e5"
      },
      "source": [
        "data[r].unique()"
      ],
      "execution_count": 46,
      "outputs": [
        {
          "output_type": "execute_result",
          "data": {
            "text/plain": [
              "array(['Russia', 'Costa Rica', 'Canada', 'Finland', 'China', 'India'],\n",
              "      dtype=object)"
            ]
          },
          "metadata": {
            "tags": []
          },
          "execution_count": 46
        }
      ]
    },
    {
      "cell_type": "code",
      "metadata": {
        "id": "VYQHwe5ZOqkB",
        "colab_type": "code",
        "colab": {}
      },
      "source": [
        "data.to_csv('data_nom2.csv',index=False)"
      ],
      "execution_count": 0,
      "outputs": []
    },
    {
      "cell_type": "code",
      "metadata": {
        "id": "XmRP-oD4OnYB",
        "colab_type": "code",
        "colab": {}
      },
      "source": [
        "(data[r]).replace(objects[0],0,inplace=True,limit=len(data))\n",
        "(data[r]).replace(objects[1],1,inplace=True,limit=len(data))\n",
        "(data[r]).replace(objects[2],2,inplace=True,limit=len(data))\n",
        "(data[r]).replace(objects[3],3,inplace=True,limit=len(data))\n",
        "(data[r]).replace(objects[4],4,inplace=True,limit=len(data))\n",
        "(data[r]).replace(objects[5],5,inplace=True,limit=len(data))"
      ],
      "execution_count": 0,
      "outputs": []
    },
    {
      "cell_type": "code",
      "metadata": {
        "id": "ExcjsmYH7SNg",
        "colab_type": "code",
        "colab": {}
      },
      "source": [
        "j=0\n",
        "rs=[0,0,0,0,0,0]\n",
        "for x in range(len(data)):\n",
        "  if data['nom_1'][x] not in objects:\n",
        "    y=random.random()\n",
        "    if data['nom_1'][x-1]==objects[0]:\n",
        "      rs=array2[0:6]\n",
        "      if y<=rs[1]:\n",
        "        data['nom_1'][x]=objects[1]\n",
        "      if y<=rs[5] and y>rs[1]:\n",
        "        data['nom_1'][x]=objects[5]\n",
        "      if y<=rs[2] and y>rs[5]:\n",
        "        data['nom_1'][x]=objects[2]\n",
        "      if y<=rs[0] and y>rs[2]:\n",
        "        data['nom_1'][x]=objects[0]\n",
        "      if y<=rs[4] and y>rs[0]:\n",
        "        data['nom_1'][x]=objects[4]\n",
        "      if y>rs[3]:\n",
        "        data['nom_1'][x]=objects[3]\n",
        "    \n",
        "    if data['nom_1'][x-1]==objects[1]:\n",
        "      rs=array2[6:12]\n",
        "      if y<=rs[1]:\n",
        "        data['nom_1'][x]=objects[1]\n",
        "      if y<=rs[5] and y>rs[1]:\n",
        "        data['nom_1'][x]=objects[5]\n",
        "      if y<=rs[2] and y>rs[5]:\n",
        "        data['nom_1'][x]=objects[2]\n",
        "      if y<=rs[0] and y>rs[2]:\n",
        "        data['nom_1'][x]=objects[0]\n",
        "      if y<=rs[4] and y>rs[0]:\n",
        "        data['nom_1'][x]=objects[4]\n",
        "      if y>rs[3]:\n",
        "        data['nom_1'][x]=objects[3]\n",
        "    \n",
        "    if data['nom_1'][x-1]==objects[2]:\n",
        "      rs=array2[12:18]\n",
        "      if y<=rs[1]:\n",
        "        data['nom_1'][x]=objects[1]\n",
        "      if y<=rs[5] and y>rs[1]:\n",
        "        data['nom_1'][x]=objects[5]\n",
        "      if y<=rs[2] and y>rs[5]:\n",
        "        data['nom_1'][x]=objects[2]\n",
        "      if y<=rs[0] and y>rs[2]:\n",
        "        data['nom_1'][x]=objects[0]\n",
        "      if y<=rs[4] and y>rs[0]:\n",
        "        data['nom_1'][x]=objects[4]\n",
        "      if y>rs[3]:\n",
        "        data['nom_1'][x]=objects[3]\n",
        "    \n",
        "    if data['nom_1'][x-1]==objects[3]:\n",
        "      rs=array2[18:24]\n",
        "      if y<=rs[1]:\n",
        "        data['nom_1'][x]=objects[1]\n",
        "      if y<=rs[5] and y>rs[1]:\n",
        "        data['nom_1'][x]=objects[5]\n",
        "      if y<=rs[2] and y>rs[5]:\n",
        "        data['nom_1'][x]=objects[2]\n",
        "      if y<=rs[0] and y>rs[2]:\n",
        "        data['nom_1'][x]=objects[0]\n",
        "      if y<=rs[4] and y>rs[0]:\n",
        "        data['nom_1'][x]=objects[4]\n",
        "      if y>rs[3]:\n",
        "        data['nom_1'][x]=objects[3]\n",
        "    \n",
        "    if data['nom_1'][x-1]==objects[4]:\n",
        "      rs=array2[24:30]\n",
        "      if y<=rs[1]:\n",
        "        data['nom_1'][x]=objects[1]\n",
        "      if y<=rs[5] and y>rs[1]:\n",
        "        data['nom_1'][x]=objects[5]\n",
        "      if y<=rs[2] and y>rs[5]:\n",
        "        data['nom_1'][x]=objects[2]\n",
        "      if y<=rs[0] and y>rs[2]:\n",
        "        data['nom_1'][x]=objects[0]\n",
        "      if y<=rs[4] and y>rs[0]:\n",
        "        data['nom_1'][x]=objects[4]\n",
        "      if y>rs[3]:\n",
        "        data['nom_1'][x]=objects[3]\n",
        "    \n",
        "    if data['nom_1'][x-1]==objects[5]:\n",
        "      rs=array2[30:36]\n",
        "      if y<=rs[1]:\n",
        "        data['nom_1'][x]=objects[1]\n",
        "      if y<=rs[5] and y>rs[1]:\n",
        "        data['nom_1'][x]=objects[5]\n",
        "      if y<=rs[2] and y>rs[5]:\n",
        "        data['nom_1'][x]=objects[2]\n",
        "      if y<=rs[0] and y>rs[2]:\n",
        "        data['nom_1'][x]=objects[0]\n",
        "      if y<=rs[4] and y>rs[0]:\n",
        "        data['nom_1'][x]=objects[4]\n",
        "      if y>rs[3]:\n",
        "        data['nom_1'][x]=objects[3]"
      ],
      "execution_count": 0,
      "outputs": []
    }
  ]
}